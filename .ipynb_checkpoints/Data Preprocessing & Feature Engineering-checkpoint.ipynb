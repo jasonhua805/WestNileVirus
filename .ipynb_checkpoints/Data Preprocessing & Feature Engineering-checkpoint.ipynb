{
 "cells": [
  {
   "cell_type": "markdown",
   "metadata": {},
   "source": [
    "# Data Preprocessing & Feature Engineering:\n",
    "Now that we've wrangled our data and have done some exploratory analysis, let's move onto the feature engineering step."
   ]
  },
  {
   "cell_type": "code",
   "execution_count": 1,
   "metadata": {},
   "outputs": [],
   "source": [
    "import pandas as pd\n",
    "import numpy as np\n",
    "import seaborn as sns\n",
    "import statistics\n",
    "import matplotlib.pyplot as plt\n",
    "from datetime import datetime\n",
    "from sklearn.preprocessing import MultiLabelBinarizer"
   ]
  },
  {
   "cell_type": "code",
   "execution_count": 2,
   "metadata": {},
   "outputs": [],
   "source": [
    "#Importing the dataframe we saved from our previous \"Data Wrangling and Exploratory Data Analysis\" Notebook\n",
    "df = pd.read_csv('WnvDataframe',parse_dates = ['Date'])"
   ]
  },
  {
   "cell_type": "markdown",
   "metadata": {},
   "source": [
    "# Feature 1: Creating Days of the Week"
   ]
  },
  {
   "cell_type": "code",
   "execution_count": 3,
   "metadata": {
    "scrolled": true
   },
   "outputs": [],
   "source": [
    "daysofweek = []\n",
    "for date in df['Date'].dt.dayofweek:\n",
    "    if date == 0:\n",
    "        daysofweek.append('Monday')\n",
    "    elif date == 1:\n",
    "        daysofweek.append('Tuesday')\n",
    "    elif date == 2:\n",
    "        daysofweek.append('Wednesday')\n",
    "    elif date == 3:\n",
    "        daysofweek.append('Thursday')\n",
    "    elif date == 4:\n",
    "        daysofweek.append('Friday')\n",
    "    elif date == 5:\n",
    "        daysofweek.append('Saturday')\n",
    "    else:\n",
    "        daysofweek.append('Sunday')\n",
    "df['DayOfWeek'] = daysofweek\n",
    "df2 = pd.get_dummies(df, columns=['DayOfWeek'],prefix='',prefix_sep='')"
   ]
  },
  {
   "cell_type": "code",
   "execution_count": 4,
   "metadata": {
    "scrolled": true
   },
   "outputs": [
    {
     "data": {
      "text/html": [
       "<div>\n",
       "<style scoped>\n",
       "    .dataframe tbody tr th:only-of-type {\n",
       "        vertical-align: middle;\n",
       "    }\n",
       "\n",
       "    .dataframe tbody tr th {\n",
       "        vertical-align: top;\n",
       "    }\n",
       "\n",
       "    .dataframe thead th {\n",
       "        text-align: right;\n",
       "    }\n",
       "</style>\n",
       "<table border=\"1\" class=\"dataframe\">\n",
       "  <thead>\n",
       "    <tr style=\"text-align: right;\">\n",
       "      <th></th>\n",
       "      <th>Block</th>\n",
       "      <th>Latitude</th>\n",
       "      <th>Longitude</th>\n",
       "      <th>AddressAccuracy</th>\n",
       "      <th>NumMosquitos</th>\n",
       "      <th>WnvPresent</th>\n",
       "      <th>Tmax</th>\n",
       "      <th>Tmin</th>\n",
       "      <th>Tavg</th>\n",
       "      <th>Depart</th>\n",
       "      <th>...</th>\n",
       "      <th>GR</th>\n",
       "      <th>HZ</th>\n",
       "      <th>MIFG</th>\n",
       "      <th>RA</th>\n",
       "      <th>SN</th>\n",
       "      <th>SQ</th>\n",
       "      <th>TS</th>\n",
       "      <th>TSRA</th>\n",
       "      <th>VCFG</th>\n",
       "      <th>VCTS</th>\n",
       "    </tr>\n",
       "    <tr>\n",
       "      <th>DayOfWeek</th>\n",
       "      <th></th>\n",
       "      <th></th>\n",
       "      <th></th>\n",
       "      <th></th>\n",
       "      <th></th>\n",
       "      <th></th>\n",
       "      <th></th>\n",
       "      <th></th>\n",
       "      <th></th>\n",
       "      <th></th>\n",
       "      <th></th>\n",
       "      <th></th>\n",
       "      <th></th>\n",
       "      <th></th>\n",
       "      <th></th>\n",
       "      <th></th>\n",
       "      <th></th>\n",
       "      <th></th>\n",
       "      <th></th>\n",
       "      <th></th>\n",
       "      <th></th>\n",
       "    </tr>\n",
       "  </thead>\n",
       "  <tbody>\n",
       "    <tr>\n",
       "      <th>Friday</th>\n",
       "      <td>140719</td>\n",
       "      <td>157547.1691</td>\n",
       "      <td>-330152.5122</td>\n",
       "      <td>30183</td>\n",
       "      <td>40740</td>\n",
       "      <td>135</td>\n",
       "      <td>299186.0</td>\n",
       "      <td>234001.0</td>\n",
       "      <td>267550.0</td>\n",
       "      <td>775.0</td>\n",
       "      <td>...</td>\n",
       "      <td>0</td>\n",
       "      <td>288</td>\n",
       "      <td>0</td>\n",
       "      <td>1609</td>\n",
       "      <td>0</td>\n",
       "      <td>0</td>\n",
       "      <td>523</td>\n",
       "      <td>688</td>\n",
       "      <td>0</td>\n",
       "      <td>0</td>\n",
       "    </tr>\n",
       "    <tr>\n",
       "      <th>Monday</th>\n",
       "      <td>42747</td>\n",
       "      <td>55040.5721</td>\n",
       "      <td>-115356.2525</td>\n",
       "      <td>10389</td>\n",
       "      <td>16469</td>\n",
       "      <td>16</td>\n",
       "      <td>113040.0</td>\n",
       "      <td>86912.0</td>\n",
       "      <td>100182.0</td>\n",
       "      <td>7893.0</td>\n",
       "      <td>...</td>\n",
       "      <td>0</td>\n",
       "      <td>178</td>\n",
       "      <td>0</td>\n",
       "      <td>254</td>\n",
       "      <td>0</td>\n",
       "      <td>0</td>\n",
       "      <td>0</td>\n",
       "      <td>317</td>\n",
       "      <td>0</td>\n",
       "      <td>0</td>\n",
       "    </tr>\n",
       "    <tr>\n",
       "      <th>Thursday</th>\n",
       "      <td>91494</td>\n",
       "      <td>107775.2096</td>\n",
       "      <td>-225906.4633</td>\n",
       "      <td>20199</td>\n",
       "      <td>34710</td>\n",
       "      <td>215</td>\n",
       "      <td>207314.5</td>\n",
       "      <td>159131.0</td>\n",
       "      <td>183833.0</td>\n",
       "      <td>5218.0</td>\n",
       "      <td>...</td>\n",
       "      <td>0</td>\n",
       "      <td>760</td>\n",
       "      <td>0</td>\n",
       "      <td>734</td>\n",
       "      <td>0</td>\n",
       "      <td>0</td>\n",
       "      <td>233</td>\n",
       "      <td>374</td>\n",
       "      <td>0</td>\n",
       "      <td>121</td>\n",
       "    </tr>\n",
       "    <tr>\n",
       "      <th>Tuesday</th>\n",
       "      <td>38591</td>\n",
       "      <td>44193.1018</td>\n",
       "      <td>-92601.9271</td>\n",
       "      <td>8197</td>\n",
       "      <td>11514</td>\n",
       "      <td>68</td>\n",
       "      <td>89049.0</td>\n",
       "      <td>68199.0</td>\n",
       "      <td>78894.0</td>\n",
       "      <td>5961.0</td>\n",
       "      <td>...</td>\n",
       "      <td>0</td>\n",
       "      <td>281</td>\n",
       "      <td>0</td>\n",
       "      <td>360</td>\n",
       "      <td>0</td>\n",
       "      <td>0</td>\n",
       "      <td>23</td>\n",
       "      <td>93</td>\n",
       "      <td>0</td>\n",
       "      <td>254</td>\n",
       "    </tr>\n",
       "    <tr>\n",
       "      <th>Wednesday</th>\n",
       "      <td>61385</td>\n",
       "      <td>75026.9388</td>\n",
       "      <td>-157358.0846</td>\n",
       "      <td>13184</td>\n",
       "      <td>31606</td>\n",
       "      <td>117</td>\n",
       "      <td>152031.5</td>\n",
       "      <td>120434.5</td>\n",
       "      <td>136715.0</td>\n",
       "      <td>8942.0</td>\n",
       "      <td>...</td>\n",
       "      <td>0</td>\n",
       "      <td>773</td>\n",
       "      <td>0</td>\n",
       "      <td>728</td>\n",
       "      <td>0</td>\n",
       "      <td>0</td>\n",
       "      <td>544</td>\n",
       "      <td>637</td>\n",
       "      <td>0</td>\n",
       "      <td>129</td>\n",
       "    </tr>\n",
       "  </tbody>\n",
       "</table>\n",
       "<p>5 rows × 37 columns</p>\n",
       "</div>"
      ],
      "text/plain": [
       "            Block     Latitude    Longitude  AddressAccuracy  NumMosquitos  \\\n",
       "DayOfWeek                                                                    \n",
       "Friday     140719  157547.1691 -330152.5122            30183         40740   \n",
       "Monday      42747   55040.5721 -115356.2525            10389         16469   \n",
       "Thursday    91494  107775.2096 -225906.4633            20199         34710   \n",
       "Tuesday     38591   44193.1018  -92601.9271             8197         11514   \n",
       "Wednesday   61385   75026.9388 -157358.0846            13184         31606   \n",
       "\n",
       "           WnvPresent      Tmax      Tmin      Tavg  Depart  ...  GR   HZ  \\\n",
       "DayOfWeek                                                    ...            \n",
       "Friday            135  299186.0  234001.0  267550.0   775.0  ...   0  288   \n",
       "Monday             16  113040.0   86912.0  100182.0  7893.0  ...   0  178   \n",
       "Thursday          215  207314.5  159131.0  183833.0  5218.0  ...   0  760   \n",
       "Tuesday            68   89049.0   68199.0   78894.0  5961.0  ...   0  281   \n",
       "Wednesday         117  152031.5  120434.5  136715.0  8942.0  ...   0  773   \n",
       "\n",
       "           MIFG    RA  SN  SQ   TS  TSRA  VCFG  VCTS  \n",
       "DayOfWeek                                             \n",
       "Friday        0  1609   0   0  523   688     0     0  \n",
       "Monday        0   254   0   0    0   317     0     0  \n",
       "Thursday      0   734   0   0  233   374     0   121  \n",
       "Tuesday       0   360   0   0   23    93     0   254  \n",
       "Wednesday     0   728   0   0  544   637     0   129  \n",
       "\n",
       "[5 rows x 37 columns]"
      ]
     },
     "execution_count": 4,
     "metadata": {},
     "output_type": "execute_result"
    }
   ],
   "source": [
    "df.groupby('DayOfWeek').sum()"
   ]
  },
  {
   "cell_type": "code",
   "execution_count": 5,
   "metadata": {
    "scrolled": false
   },
   "outputs": [
    {
     "data": {
      "image/png": "[encoded data removed]",
      "text/plain": [
       "<Figure size 1152x576 with 1 Axes>"
      ]
     },
     "metadata": {
      "needs_background": "light"
     },
     "output_type": "display_data"
    }
   ],
   "source": [
    "df['Counter'] = 1\n",
    "df_dayofweek = df.groupby(['DayOfWeek','WnvPresent']).sum()\n",
    "plt.rcParams[\"figure.figsize\"] = (16,8)\n",
    "df_dayofweek.Counter.unstack().plot.bar(stacked=True)\n",
    "plt.title('Total Number of Days Separated By WNV Test Status')\n",
    "plt.legend(labels=['Negative','Positive'])\n",
    "plt.ylabel('Number of Days')\n",
    "plt.xlabel('Day of the Week')\n",
    "plt.show();"
   ]
  },
  {
   "cell_type": "markdown",
   "metadata": {},
   "source": [
    "# Feature 2: Days Since Previous Weather Condition"
   ]
  },
  {
   "cell_type": "code",
   "execution_count": 11,
   "metadata": {},
   "outputs": [],
   "source": [
    "df2['TimeSincePreviousWnvPresent'] = df2['Date'] - df2['Date'].where(df2['WnvPresent']==1).groupby(df2['Date']).ffill()"
   ]
  },
  {
   "cell_type": "code",
   "execution_count": 37,
   "metadata": {
    "scrolled": true
   },
   "outputs": [
    {
     "data": {
      "text/plain": [
       "0       0 days\n",
       "1       0 days\n",
       "2       0 days\n",
       "3       0 days\n",
       "4       0 days\n",
       "         ...  \n",
       "10501   7 days\n",
       "10502   7 days\n",
       "10503   7 days\n",
       "10504   7 days\n",
       "10505   7 days\n",
       "Name: Date, Length: 10506, dtype: timedelta64[ns]"
      ]
     },
     "execution_count": 37,
     "metadata": {},
     "output_type": "execute_result"
    }
   ],
   "source": [
    "df2['Date'] - df2.groupby(df2['HZ'].eq(1).cumsum())['Date'].transform('min')"
   ]
  },
  {
   "cell_type": "code",
   "execution_count": 52,
   "metadata": {
    "scrolled": true
   },
   "outputs": [
    {
     "name": "stderr",
     "output_type": "stream",
     "text": [
      "C:\\Users\\jhua\\AppData\\Local\\Temp\\ipykernel_25496\\2836826595.py:5: SettingWithCopyWarning: \n",
      "A value is trying to be set on a copy of a slice from a DataFrame\n",
      "\n",
      "See the caveats in the documentation: https://pandas.pydata.org/pandas-docs/stable/user_guide/indexing.html#returning-a-view-versus-a-copy\n",
      "  df2['TimeSinceLastHZ'][i] = np.nan\n"
     ]
    },
    {
     "data": {
      "text/plain": [
       "0 days     2280\n",
       "14 days     745\n",
       "7 days      688\n",
       "6 days      577\n",
       "15 days     425\n",
       "21 days     360\n",
       "28 days     345\n",
       "18 days     305\n",
       "3 days      303\n",
       "4 days      270\n",
       "11 days     212\n",
       "5 days      210\n",
       "1 days      204\n",
       "8 days      197\n",
       "46 days     190\n",
       "35 days     186\n",
       "22 days     182\n",
       "42 days     181\n",
       "56 days     167\n",
       "49 days     157\n",
       "25 days     140\n",
       "10 days     138\n",
       "32 days     128\n",
       "69 days     127\n",
       "77 days     125\n",
       "13 days     123\n",
       "20 days     121\n",
       "39 days     119\n",
       "66 days     111\n",
       "34 days     105\n",
       "12 days      93\n",
       "17 days      83\n",
       "83 days      65\n",
       "52 days      62\n",
       "55 days      55\n",
       "48 days      54\n",
       "19 days      23\n",
       "Name: TimeSinceLastHZ, dtype: int64"
      ]
     },
     "execution_count": 52,
     "metadata": {},
     "output_type": "execute_result"
    }
   ],
   "source": [
    "df2['TimeSinceLastHZ'] = df2['Date'] - df2.groupby(df2['HZ'].eq(1).cumsum())['Date'].transform('min')\n",
    "# There are ~two year gaps between the data - we want to mark off the start of a new year of data with \"N/A\" instead of 600+ days\n",
    "for i in range(len(df2['TimeSinceLastHZ'])):\n",
    "    if df2['TimeSinceLastHZ'][i] > pd.Timedelta(days=365):\n",
    "        df2['TimeSinceLastHZ'][i] = np.nan\n",
    "    else:\n",
    "        pass\n",
    "df2['TimeSinceLastHZ'].value_counts()"
   ]
  }
 ],
 "metadata": {
  "kernelspec": {
   "display_name": "Python 3 (ipykernel)",
   "language": "python",
   "name": "python3"
  },
  "language_info": {
   "codemirror_mode": {
    "name": "ipython",
    "version": 3
   },
   "file_extension": ".py",
   "mimetype": "text/x-python",
   "name": "python",
   "nbconvert_exporter": "python",
   "pygments_lexer": "ipython3",
   "version": "3.9.12"
  }
 },
 "nbformat": 4,
 "nbformat_minor": 4
}
