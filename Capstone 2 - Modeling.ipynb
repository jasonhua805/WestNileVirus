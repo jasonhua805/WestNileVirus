{
 "cells": [
  {
   "cell_type": "code",
   "execution_count": 1,
   "id": "f4120a65",
   "metadata": {},
   "outputs": [],
   "source": [
    "import pandas as pd\n",
    "import numpy as np\n",
    "import seaborn as sns\n",
    "import statistics\n",
    "import matplotlib.pyplot as plt\n",
    "import traceback\n",
    "import re\n",
    "import pandas.core.algorithms as algos\n",
    "from pandas import Series\n",
    "from datetime import datetime\n",
    "from scipy import stats\n",
    "from sklearn.model_selection import train_test_split\n",
    "from statsmodels.stats.outliers_influence import variance_inflation_factor"
   ]
  },
  {
   "cell_type": "code",
   "execution_count": 7,
   "id": "2c75a4b0",
   "metadata": {},
   "outputs": [],
   "source": [
    "X_train = pd.read_csv('X_train')\n",
    "y_train = pd.read_csv('y_train')\n",
    "X_test = pd.read_csv('X_test')\n",
    "y_test = pd.read_csv('y_test')"
   ]
  },
  {
   "cell_type": "code",
   "execution_count": 5,
   "id": "03aa75e5",
   "metadata": {
    "scrolled": true
   },
   "outputs": [
    {
     "data": {
      "text/plain": [
       "<AxesSubplot:>"
      ]
     },
     "execution_count": 5,
     "metadata": {},
     "output_type": "execute_result"
    },
    {
     "data": {
      "image/png": "[encoded data removed]",
      "text/plain": [
       "<Figure size 1440x936 with 1 Axes>"
      ]
     },
     "metadata": {
      "needs_background": "light"
     },
     "output_type": "display_data"
    }
   ],
   "source": [
    "plt.figure(figsize=(20,13))\n",
    "X_train.boxplot()"
   ]
  },
  {
   "cell_type": "markdown",
   "id": "2911f3c8",
   "metadata": {},
   "source": [
    "# Random Forest Model:"
   ]
  },
  {
   "cell_type": "code",
   "execution_count": 23,
   "id": "27724fef",
   "metadata": {
    "scrolled": true
   },
   "outputs": [],
   "source": [
    "#First we need to scale our data before we fit our model.\n",
    "from sklearn import preprocessing\n",
    "scaler = preprocessing.StandardScaler().fit(X_train)\n",
    "X_train_scaled=scaler.transform(X_train)\n",
    "X_test_scaled=scaler.transform(X_test[X_train.columns])"
   ]
  },
  {
   "cell_type": "code",
   "execution_count": 24,
   "id": "ae4db0e5",
   "metadata": {},
   "outputs": [
    {
     "data": {
      "text/plain": [
       "array([[-0.75,  1.44, -0.16, ..., -0.53, -0.57, -0.22],\n",
       "       [ 1.33, -0.69, -0.16, ...,  1.75,  1.18, -0.22],\n",
       "       [-0.75, -0.69, -0.16, ...,  0.02, -0.79, -0.22],\n",
       "       ...,\n",
       "       [-0.75, -0.69, -0.16, ..., -0.36,  1.58, -0.22],\n",
       "       [ 1.33, -0.69, -0.16, ...,  0.45, -0.57, -0.22],\n",
       "       [ 1.33,  1.44, -0.16, ..., -0.64,  0.17,  4.6 ]])"
      ]
     },
     "execution_count": 24,
     "metadata": {},
     "output_type": "execute_result"
    }
   ],
   "source": [
    "X_test_scaled"
   ]
  },
  {
   "cell_type": "code",
   "execution_count": 12,
   "id": "ce0e266f",
   "metadata": {},
   "outputs": [],
   "source": [
    "from sklearn.metrics import precision_recall_curve\n",
    "from sklearn.metrics import f1_score\n",
    "from sklearn.metrics import auc\n",
    "from sklearn.linear_model import LogisticRegression\n",
    "from matplotlib import pyplot\n",
    "from sklearn.metrics import precision_recall_curve\n",
    "from sklearn.metrics import f1_score\n",
    "from sklearn.metrics import auc\n",
    "from sklearn.linear_model import LogisticRegression\n",
    "from sklearn.metrics import classification_report,confusion_matrix,roc_curve,roc_auc_score\n",
    "from sklearn.metrics import accuracy_score,log_loss\n",
    "from matplotlib import pyplot"
   ]
  },
  {
   "cell_type": "code",
   "execution_count": 13,
   "id": "2606b4aa",
   "metadata": {},
   "outputs": [
    {
     "name": "stderr",
     "output_type": "stream",
     "text": [
      "C:\\Users\\jhua\\AppData\\Local\\Temp\\ipykernel_16584\\1937885308.py:3: DataConversionWarning: A column-vector y was passed when a 1d array was expected. Please change the shape of y to (n_samples,), for example using ravel().\n",
      "  model_res = clf.fit(X_train_scaled, y_train)\n"
     ]
    },
    {
     "name": "stdout",
     "output_type": "stream",
     "text": [
      "Random Forest: Accuracy=0.947\n",
      "Random Forest: f1-score=0.922\n"
     ]
    }
   ],
   "source": [
    "from sklearn.ensemble import RandomForestClassifier\n",
    "clf = RandomForestClassifier(n_estimators=300, random_state = 42, n_jobs=-1)\n",
    "model_res = clf.fit(X_train_scaled, y_train)\n",
    "y_pred = model_res.predict(X_test_scaled)\n",
    "y_pred_prob = model_res.predict_proba(X_test_scaled)\n",
    "lr_probs = y_pred_prob[:,1]\n",
    "ac = accuracy_score(y_test, y_pred)\n",
    "\n",
    "f1 = f1_score(y_test, y_pred, average='weighted')\n",
    "cm = confusion_matrix(y_test, y_pred)\n",
    "\n",
    "print('Random Forest: Accuracy=%.3f' % (ac))\n",
    "\n",
    "print('Random Forest: f1-score=%.3f' % (f1))"
   ]
  },
  {
   "cell_type": "code",
   "execution_count": 25,
   "id": "46c9203c",
   "metadata": {},
   "outputs": [
    {
     "data": {
      "text/plain": [
       "array([[2986,    0],\n",
       "       [ 166,    0]], dtype=int64)"
      ]
     },
     "execution_count": 25,
     "metadata": {},
     "output_type": "execute_result"
    }
   ],
   "source": [
    "cm"
   ]
  },
  {
   "cell_type": "markdown",
   "id": "9e15dca0",
   "metadata": {},
   "source": [
    "It looks like our random forest model just predicted \"No Virus\" for every single datapoint! This model will obviously run into problems when trying to generalize so let's try a different one."
   ]
  },
  {
   "cell_type": "markdown",
   "id": "bf384d3a",
   "metadata": {},
   "source": [
    "# XG Boost Model:"
   ]
  },
  {
   "cell_type": "code",
   "execution_count": null,
   "id": "1190f3a9",
   "metadata": {},
   "outputs": [],
   "source": []
  }
 ],
 "metadata": {
  "kernelspec": {
   "display_name": "Python 3 (ipykernel)",
   "language": "python",
   "name": "python3"
  },
  "language_info": {
   "codemirror_mode": {
    "name": "ipython",
    "version": 3
   },
   "file_extension": ".py",
   "mimetype": "text/x-python",
   "name": "python",
   "nbconvert_exporter": "python",
   "pygments_lexer": "ipython3",
   "version": "3.9.12"
  }
 },
 "nbformat": 4,
 "nbformat_minor": 5
}
